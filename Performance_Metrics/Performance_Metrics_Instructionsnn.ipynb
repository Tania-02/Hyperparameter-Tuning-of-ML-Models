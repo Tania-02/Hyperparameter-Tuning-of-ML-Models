{
 "cells": [
  {
   "cell_type": "markdown",
   "metadata": {
    "colab_type": "text",
    "id": "s0Ej_bXyQvnV"
   },
   "source": [
    "# Compute performance metrics for the given Y and Y_score without sklearn"
   ]
  },
  {
   "cell_type": "code",
   "execution_count": 5,
   "metadata": {
    "colab": {},
    "colab_type": "code",
    "id": "4CHb6NE7Qvnc"
   },
   "outputs": [],
   "source": [
    "import numpy as np\n",
    "import pandas as pd\n",
    "import matplotlib.pyplot as plt\n",
    "# other than these two you should not import any other packages"
   ]
  },
  {
   "cell_type": "markdown",
   "metadata": {
    "colab_type": "text",
    "id": "KbsWXuDaQvnq"
   },
   "source": [
    "<pre>\n",
    "<font color='red'><b>A.</b></font> Compute performance metrics for the given data <strong>5_a.csv</strong>\n",
    "   <b>Note 1:</b> in this data you can see number of positive points >> number of negatives points\n",
    "   <b>Note 2:</b> use pandas or numpy to read the data from <b>5_a.csv</b>\n",
    "   <b>Note 3:</b> you need to derive the class labels from given score</pre> $y^{pred}= \\text{[0 if y_score < 0.5 else 1]}$\n",
    "\n",
    "<pre>\n",
    "<ol>\n",
    "<li> Compute Confusion Matrix </li>\n",
    "<li> Compute F1 Score </li>\n",
    "<li> Compute AUC Score, you need to compute different thresholds and for each threshold compute tpr,fpr and then use               numpy.trapz(tpr_array, fpr_array) <a href='https://stackoverflow.com/q/53603376/4084039'>https://stackoverflow.com/q/53603376/4084039</a>, <a href='https://stackoverflow.com/a/39678975/4084039'>https://stackoverflow.com/a/39678975/4084039</a> Note: it should be numpy.trapz(tpr_array, fpr_array) not numpy.trapz(fpr_array, tpr_array)</li>\n",
    "<li> Compute Accuracy Score </li>\n",
    "</ol>\n",
    "</pre>"
   ]
  },
  {
   "cell_type": "code",
   "execution_count": 3,
   "metadata": {
    "colab": {},
    "colab_type": "code",
    "id": "WaFLW7oBQvnt"
   },
   "outputs": [
    {
     "name": "stdout",
     "output_type": "stream",
     "text": [
      "Confusion Matrix:- \n",
      "\n",
      "Actual       0      1\n",
      "Predicted            \n",
      "1          100  10000\n",
      "\n",
      "Precision: 0.9900990099009901, Recall: 1.0, F1 Score: 0.9950248756218906\n",
      "Accuracy Score: 0.9900990099009901\n",
      "AUC: 0.48829900000000004\n"
     ]
    },
    {
     "data": {
      "text/plain": [
       "<matplotlib.legend.Legend at 0x1d5be639630>"
      ]
     },
     "execution_count": 3,
     "metadata": {},
     "output_type": "execute_result"
    },
    {
     "data": {
      "image/png": "[encoded data removed]",
      "text/plain": [
       "<Figure size 720x576 with 1 Axes>"
      ]
     },
     "metadata": {
      "needs_background": "light"
     },
     "output_type": "display_data"
    }
   ],
   "source": [
    "def perf_measure(y_actual, y_predicted):\n",
    "   \n",
    "    y_actual, y_predicted = np.array(y_actual), np.array(y_predicted)\n",
    "    \n",
    "    TP = np.sum(np.logical_and(y_actual == 1, y_predicted == 1)).item()\n",
    "    \n",
    "    FP = np.sum(np.logical_and(y_actual == 0, y_predicted == 1)).item()\n",
    "    \n",
    "    TN = np.sum(np.logical_and(y_actual == 0, y_predicted == 0)).item()\n",
    "    \n",
    "    FN = np.sum(np.logical_and(y_actual == 1, y_predicted == 0)).item()\n",
    "\n",
    "    return TN, FN, FP, TP\n",
    "\n",
    "    \n",
    "def compute_f1(TN, FN, FP, TP):\n",
    "    \n",
    "    precision = TP / (TP + FP)\n",
    "    recall = TP / (TP + FN)\n",
    "    try:\n",
    "        f1 = 2 * precision * recall / (precision + recall)\n",
    "    except ZeroDivisionError:\n",
    "        return (precision, recall, 0.0)\n",
    "    return (precision, recall, f1)\n",
    "\n",
    "\n",
    "def compute_accuracy_score(TN, FN, FP, TP):\n",
    "    \n",
    "    try:\n",
    "        accuracy_score = (TN + TP) / (TP + FP + TN + FN)\n",
    "    except ZeroDivisionError:\n",
    "        return (0.0)\n",
    "    return accuracy_score\n",
    "\n",
    "\n",
    "def compute_TPR_FPR(sorted_proba_list, proba_list, y_actual):\n",
    "    TPR, FPR = [], []   \n",
    "\n",
    "    sorted_proba_ar = np.array(proba_list)\n",
    "    for i in sorted_proba_list:\n",
    "#         y_pred_list = [1 if prob >= i else 0 for prob in sorted_proba_list]\n",
    "        y_pred_list = (sorted_proba_ar >= i).astype(int)    \n",
    "            \n",
    "        TN, FN, FP, TP = perf_measure(y_actual, y_pred_list)    \n",
    "    \n",
    "        tpr = TP/(TP+FN)\n",
    "        fpr = FP/(FP+TN)\n",
    "        \n",
    "#         try:\n",
    "#             tpr = TP/(TP+FN)\n",
    "#             fpr = FP/(FP+TN)\n",
    "#         except ZeroDivisionError:\n",
    "#             tpr = 0.0\n",
    "#             fpr = 0.0\n",
    "         \n",
    "        TPR.append(tpr)\n",
    "        FPR.append(fpr) \n",
    "\n",
    "    return TPR, FPR\n",
    "\n",
    "df_5a = pd.read_csv('5_a.csv')\n",
    "\n",
    "# df_5a['y_p'] = [0 if y_score < 0.5 else 1 for y_score in df_5a['proba']]\n",
    "df_5a['y_p'] = (df_5a['proba'] >= 0.5).astype(int)\n",
    "                               \n",
    "\n",
    "y_actual = (df_5a['y'] != 0.0).astype(int)\n",
    "y_predicted = df_5a['y_p']\n",
    "\n",
    "df_5a_new = pd.DataFrame(list(zip(y_actual, y_predicted)), columns = ['y_actual','y_predicted'])\n",
    "\n",
    "\n",
    "exp_series = pd.Series(y_actual)\n",
    "pred_series = pd.Series(y_predicted)\n",
    "confusion_matrix = pd.crosstab(df_5a_new['y_predicted'], df_5a_new['y_actual'], rownames=['Predicted'], colnames=['Actual'])\n",
    "\n",
    "print(\"Confusion Matrix:- \\n\")\n",
    "print(confusion_matrix)\n",
    "\n",
    "print() \n",
    "\n",
    "TN, FN, FP, TP = perf_measure(y_actual, y_predicted)\n",
    "precision, recall, f1 = compute_f1(TN, FN, FP, TP)  \n",
    "\n",
    "print(f'Precision: {precision}, Recall: {recall}, F1 Score: {f1}')\n",
    "\n",
    "proba_list = list(df_5a['proba'])\n",
    "df_5a = df_5a.sort_values('proba', ascending = False)\n",
    "sorted_proba_list = list(df_5a['proba'])\n",
    "\n",
    "TPR, FPR = compute_TPR_FPR(sorted_proba_list, proba_list, y_actual)\n",
    "\n",
    "list_tpr_fpr = [[TPR[i], FPR[i]] for i in range(0, len(TPR))]\n",
    "\n",
    "list_tpr_fpr = sorted(list_tpr_fpr, key=lambda x: x[0])\n",
    "\n",
    "TPR,FPR =  map(list, zip(*list_tpr_fpr))\n",
    "\n",
    "print(f\"Accuracy Score: {compute_accuracy_score(TN, FN, FP, TP)}\")\n",
    "\n",
    "AUC = np.trapz(TPR, FPR)\n",
    "print(f\"AUC: {AUC}\")\n",
    "\n",
    "plt.figure(figsize = (10, 8))\n",
    "label = 'Support Vector Classifier AUC:' + ' {0:.2f}'.format(AUC)\n",
    "plt.plot(FPR, TPR, c = 'g', label = label, linewidth = 2)\n",
    "plt.xlabel('False Positive Rate', fontsize = 16)\n",
    "plt.ylabel('True Positive Rate', fontsize = 16)\n",
    "plt.title('Receiver Operating Characteristic', fontsize = 16)\n",
    "plt.legend(loc = 'lower right', fontsize = 10)"
   ]
  },
  {
   "cell_type": "markdown",
   "metadata": {
    "colab_type": "text",
    "id": "V5KZem1BQvn2"
   },
   "source": [
    "<pre>\n",
    "<font color='red'><b>B.</b></font> Compute performance metrics for the given data <strong>5_b.csv</strong>\n",
    "   <b>Note 1:</b> in this data you can see number of positive points << number of negatives points\n",
    "   <b>Note 2:</b> use pandas or numpy to read the data from <b>5_b.csv</b>\n",
    "   <b>Note 3:</b> you need to derive the class labels from given score</pre> $y^{pred}= \\text{[0 if y_score < 0.5 else 1]}$\n",
    "\n",
    "<pre>\n",
    "<ol>\n",
    "<li> Compute Confusion Matrix </li>\n",
    "<li> Compute F1 Score </li>\n",
    "<li> Compute AUC Score, you need to compute different thresholds and for each threshold compute tpr,fpr and then use               numpy.trapz(tpr_array, fpr_array) <a href='https://stackoverflow.com/q/53603376/4084039'>https://stackoverflow.com/q/53603376/4084039</a>, <a href='https://stackoverflow.com/a/39678975/4084039'>https://stackoverflow.com/a/39678975/4084039</a></li>\n",
    "<li> Compute Accuracy Score </li>\n",
    "</ol>\n",
    "</pre>"
   ]
  },
  {
   "cell_type": "code",
   "execution_count": 4,
   "metadata": {},
   "outputs": [
    {
     "name": "stdout",
     "output_type": "stream",
     "text": [
      "Confusion Matrix:- \n",
      "\n",
      "Actual        0   1\n",
      "Predicted          \n",
      "0          9761  45\n",
      "1           239  55\n",
      "\n",
      "Precision: 0.1870748299319728, Recall: 0.55, F1 Score: 0.2791878172588833\n",
      "Accuracy Score: 0.9718811881188119\n",
      "AUC: 0.9377570000000001\n"
     ]
    },
    {
     "data": {
      "text/plain": [
       "<matplotlib.legend.Legend at 0x1d5bc5e4940>"
      ]
     },
     "execution_count": 4,
     "metadata": {},
     "output_type": "execute_result"
    },
    {
     "data": {
      "image/png": "[encoded data removed]",
      "text/plain": [
       "<Figure size 720x576 with 1 Axes>"
      ]
     },
     "metadata": {
      "needs_background": "light"
     },
     "output_type": "display_data"
    }
   ],
   "source": [
    "def perf_measure(y_actual, y_predicted):\n",
    "   \n",
    "    y_actual, y_predicted = np.array(y_actual), np.array(y_predicted)\n",
    "    \n",
    "    TP = np.sum(np.logical_and(y_actual == 1, y_predicted == 1)).item()\n",
    "    \n",
    "    FP = np.sum(np.logical_and(y_actual == 0, y_predicted == 1)).item()\n",
    "    \n",
    "    TN = np.sum(np.logical_and(y_actual == 0, y_predicted == 0)).item()\n",
    "    \n",
    "    FN = np.sum(np.logical_and(y_actual == 1, y_predicted == 0)).item()\n",
    "\n",
    "    return TN, FN, FP, TP\n",
    "\n",
    "    \n",
    "def compute_f1(TN, FN, FP, TP):\n",
    "    \n",
    "    precision = TP / (TP + FP)\n",
    "    recall = TP / (TP + FN)\n",
    "    try:\n",
    "        f1 = 2 * precision * recall / (precision + recall)\n",
    "    except ZeroDivisionError:\n",
    "        return (precision, recall, 0.0)\n",
    "    return (precision, recall, f1)\n",
    "\n",
    "\n",
    "def compute_accuracy_score(TN, FN, FP, TP):\n",
    "    \n",
    "    try:\n",
    "        accuracy_score = (TN + TP) / (TP + FP + TN + FN)\n",
    "    except ZeroDivisionError:\n",
    "        return (0.0)\n",
    "    return accuracy_score\n",
    "\n",
    "\n",
    "def compute_TPR_FPR(sorted_proba_list, proba_list, y_actual):\n",
    "    TPR, FPR = [], []   \n",
    "\n",
    "    sorted_proba_ar = np.array(proba_list)\n",
    "    for i in sorted_proba_list:\n",
    "#         y_pred_list = [1 if prob >= i else 0 for prob in sorted_proba_list]\n",
    "        y_pred_list = (sorted_proba_ar >= i).astype(int)    \n",
    "            \n",
    "        TN, FN, FP, TP = perf_measure(y_actual, y_pred_list)    \n",
    "    \n",
    "        tpr = TP/(TP+FN)\n",
    "        fpr = FP/(FP+TN)\n",
    "         \n",
    "        TPR.append(tpr)\n",
    "        FPR.append(fpr) \n",
    "\n",
    "    return TPR, FPR\n",
    "\n",
    "df_5b = pd.read_csv('5_b.csv')\n",
    "\n",
    "# df_5a['y_p'] = [0 if y_score < 0.5 else 1 for y_score in df_5a['proba']]\n",
    "df_5b['y_p'] = (df_5b['proba'] >= 0.5).astype(int)\n",
    "                               \n",
    "\n",
    "y_actual = (df_5b['y'] != 0.0).astype(int)\n",
    "y_predicted = df_5b['y_p']\n",
    "\n",
    "df_5b_new = pd.DataFrame(list(zip(y_actual, y_predicted)), columns = ['y_actual','y_predicted'])\n",
    "\n",
    "exp_series = pd.Series(y_actual)\n",
    "pred_series = pd.Series(y_predicted)\n",
    "confusion_matrix = pd.crosstab(df_5b_new['y_predicted'], df_5b_new['y_actual'], rownames=['Predicted'], colnames=['Actual'])\n",
    "\n",
    "print(\"Confusion Matrix:- \\n\")\n",
    "print(confusion_matrix)\n",
    "\n",
    "print() \n",
    "\n",
    "TN, FN, FP, TP = perf_measure(y_actual, y_predicted)\n",
    "precision, recall, f1 = compute_f1(TN, FN, FP, TP)  \n",
    "\n",
    "print(f'Precision: {precision}, Recall: {recall}, F1 Score: {f1}')\n",
    "\n",
    "proba_list = list(df_5b['proba'])\n",
    "df_5b = df_5b.sort_values('proba', ascending = False)\n",
    "sorted_proba_list = list(df_5b['proba'])\n",
    "\n",
    "TPR, FPR = compute_TPR_FPR(sorted_proba_list, proba_list, y_actual)\n",
    "\n",
    "list_tpr_fpr = [[TPR[i], FPR[i]] for i in range(0, len(TPR))]\n",
    "\n",
    "list_tpr_fpr = sorted(list_tpr_fpr, key=lambda x: x[0])\n",
    "\n",
    "TPR,FPR =  map(list, zip(*list_tpr_fpr))\n",
    "\n",
    "print(f\"Accuracy Score: {compute_accuracy_score(TN, FN, FP, TP)}\")\n",
    "\n",
    "AUC = np.trapz(TPR, FPR)\n",
    "print(f\"AUC: {AUC}\")\n",
    "\n",
    "plt.figure(figsize = (10, 8))\n",
    "label = 'Support Vector Classifier AUC:' + ' {0:.2f}'.format(AUC)\n",
    "plt.plot(FPR, TPR, c = 'g', label = label, linewidth = 2)\n",
    "plt.xlabel('False Positive Rate', fontsize = 16)\n",
    "plt.ylabel('True Positive Rate', fontsize = 16)\n",
    "plt.title('Receiver Operating Characteristic', fontsize = 16)\n",
    "plt.legend(loc = 'lower right', fontsize = 10)"
   ]
  },
  {
   "cell_type": "markdown",
   "metadata": {
    "colab_type": "text",
    "id": "GiPGonTzQvoB"
   },
   "source": [
    "<font color='red'><b>C.</b></font> Compute the best threshold (similarly to ROC curve computation) of probability which gives lowest values of metric <b>A</b> for the given data <strong>5_c.csv</strong>\n",
    "<br>\n",
    "\n",
    "you will be predicting label of a data points like this: $y^{pred}= \\text{[0 if y_score < threshold  else 1]}$\n",
    "\n",
    "$ A = 500 \\times \\text{number of false negative} + 100 \\times \\text{numebr of false positive}$\n",
    "\n",
    "<pre>\n",
    "   <b>Note 1:</b> in this data you can see number of negative points > number of positive points\n",
    "   <b>Note 2:</b> use pandas or numpy to read the data from <b>5_c.csv</b>\n",
    "</pre>"
   ]
  },
  {
   "cell_type": "code",
   "execution_count": 9,
   "metadata": {
    "colab": {},
    "colab_type": "code",
    "id": "x5HIJzq1QvoE"
   },
   "outputs": [
    {
     "name": "stdout",
     "output_type": "stream",
     "text": [
      "Best threshold value of probability which gives lowest values of metric A(141000):  0.2300390278970873\n"
     ]
    }
   ],
   "source": [
    "def perf_measure(y_actual, y_predicted):\n",
    "   \n",
    "    y_actual, y_predicted = np.array(y_actual), np.array(y_predicted)\n",
    "    \n",
    "    TP = (np.logical_and(y_actual == 1, y_predicted == 1)).sum().item()\n",
    "    \n",
    "    FP = np.sum(np.logical_and(y_actual == 0, y_predicted == 1)).item()\n",
    "    \n",
    "    TN = np.sum(np.logical_and(y_actual == 0, y_predicted == 0)).item()\n",
    "    \n",
    "    FN = np.sum(np.logical_and(y_actual == 1, y_predicted == 0)).item()\n",
    "\n",
    "    return TN, FN, FP, TP\n",
    "\n",
    "def compute_A(sorted_prob_list, prob_list, y_actual):\n",
    "    A, threshold = [], []  \n",
    "    \n",
    "    prob_ar = np.array(prob_list) \n",
    "    for i in sorted_prob_list:\n",
    "        threshold.append(i)\n",
    "        y_pred_list = (prob_ar >= i).astype(int)\n",
    "            \n",
    "        TN, FN, FP, TP = perf_measure(y_actual, y_pred_list)\n",
    "            \n",
    "        a = (500 * FN) + (100  * FP)            \n",
    "         \n",
    "        A.append(a)\n",
    "\n",
    "    return A, threshold\n",
    "\n",
    "df_5c = pd.read_csv('5_c.csv')\n",
    "df_5c.head()\n",
    "\n",
    "y_actual = df_5c['y']\n",
    "\n",
    "prob_list = list(df_5c['prob'])\n",
    "df_5c = df_5c.sort_values('prob')\n",
    "sorted_prob_list = list(df_5c['prob'])\n",
    "\n",
    "\n",
    "A, threshold = compute_A(sorted_prob_list, prob_list, y_actual)\n",
    "\n",
    "print(f\"Best threshold value of probability which gives lowest values of metric A({sorted(list(zip(A, threshold)))[0][0]}): \", sorted(list(zip(A, threshold)))[0][1])\n"
   ]
  },
  {
   "cell_type": "markdown",
   "metadata": {
    "colab_type": "text",
    "id": "sD4CcgjXQvoL"
   },
   "source": [
    "<pre>\n",
    "<font color='red'><b>D.</b></font> Compute performance metrics(for regression) for the given data <strong>5_d.csv</strong>\n",
    "    <b>Note 2:</b> use pandas or numpy to read the data from <b>5_d.csv</b>\n",
    "    <b>Note 1:</b> <b>5_d.csv</b> will having two columns Y and predicted_Y both are real valued features\n",
    "<ol>\n",
    "<li> Compute Mean Square Error </li>\n",
    "<li> Compute MAPE: https://www.youtube.com/watch?v=ly6ztgIkUxk</li>\n",
    "<li> Compute R^2 error: https://en.wikipedia.org/wiki/Coefficient_of_determination#Definitions </li>\n",
    "</ol>\n",
    "</pre>"
   ]
  },
  {
   "cell_type": "code",
   "execution_count": 6,
   "metadata": {},
   "outputs": [
    {
     "name": "stdout",
     "output_type": "stream",
     "text": [
      "MSE:  177.16569974554707\n",
      "MAPE:  12.91 %\n",
      "R_Squared:  0.9563582786990937\n"
     ]
    }
   ],
   "source": [
    "def compute_MSE(y, pred):\n",
    "    y_actual, y_pred = np.array(y), np.array(pred)\n",
    "   \n",
    "    return ((np.square(y_actual - y_pred).sum()) / N )\n",
    "\n",
    "# def percentage_error(actual, predicted):\n",
    "#     res = np.empty(actual.shape)\n",
    "#     for j in range(actual.shape[0]):\n",
    "#         if actual[j] != 0:\n",
    "#             res[j] = (predicted[j] -  actual[j]) / actual[j]\n",
    "#         else:\n",
    "#             res[j] = predicted[j] / np.mean(actual)\n",
    "#     return res\n",
    "\n",
    "def compute_MAPE(y, y_pred): \n",
    "    return (np.sum(np.abs(np.asarray(y_pred)-np.asarray(y))) / np.sum(np.asarray(y))) * 100\n",
    "#     return np.mean(np.abs(percentage_error(np.asarray(y), np.asarray(y_pred))).sum()) * 100\n",
    "    \n",
    "def compute_r_squared(y, pred):\n",
    "    y_actual, y_pred = np.array(y), np.array(pred)\n",
    "    \n",
    "    sse  = np.square( y_pred - y_actual ).sum()\n",
    "    sst  = np.square( y_actual - y_actual.mean() ).sum()\n",
    "    return 1 - sse/sst\n",
    "\n",
    "df_5d = pd.read_csv('5_d.csv')\n",
    "\n",
    "N = df_5d.shape[0] # Number of row count\n",
    "\n",
    "\n",
    "pred = list(df_5d['pred'])\n",
    "y = list(df_5d['y'])\n",
    "\n",
    "MSE = compute_MSE(y, pred)\n",
    "print(\"MSE: \", MSE)\n",
    "\n",
    "MAPE = compute_MAPE(y, pred)\n",
    "print(\"MAPE: \", \"{:.2f}\".format(MAPE), '%')\n",
    "\n",
    "R_Squared = compute_r_squared(y, pred)\n",
    "print(\"R_Squared: \", R_Squared)"
   ]
  },
  {
   "cell_type": "markdown",
   "metadata": {},
   "source": [
    "**References:**\n",
    "1. https://stackoverflow.com/\n",
    "2. https://www.geeksforgeeks.org/\n",
    "3. https://stackexchange.com/"
   ]
  },
  {
   "cell_type": "code",
   "execution_count": null,
   "metadata": {},
   "outputs": [],
   "source": []
  }
 ],
 "metadata": {
  "colab": {
   "collapsed_sections": [],
   "name": "5_Performance_metrics_Instructions.ipynb",
   "provenance": []
  },
  "kernelspec": {
   "display_name": "Python 3",
   "language": "python",
   "name": "python3"
  },
  "language_info": {
   "codemirror_mode": {
    "name": "ipython",
    "version": 3
   },
   "file_extension": ".py",
   "mimetype": "text/x-python",
   "name": "python",
   "nbconvert_exporter": "python",
   "pygments_lexer": "ipython3",
   "version": "3.7.3"
  },
  "toc": {
   "base_numbering": 1,
   "nav_menu": {},
   "number_sections": true,
   "sideBar": true,
   "skip_h1_title": false,
   "title_cell": "Table of Contents",
   "title_sidebar": "Contents",
   "toc_cell": false,
   "toc_position": {},
   "toc_section_display": true,
   "toc_window_display": false
  },
  "varInspector": {
   "cols": {
    "lenName": 16,
    "lenType": 16,
    "lenVar": 40
   },
   "kernels_config": {
    "python": {
     "delete_cmd_postfix": "",
     "delete_cmd_prefix": "del ",
     "library": "var_list.py",
     "varRefreshCmd": "print(var_dic_list())"
    },
    "r": {
     "delete_cmd_postfix": ") ",
     "delete_cmd_prefix": "rm(",
     "library": "var_list.r",
     "varRefreshCmd": "cat(var_dic_list()) "
    }
   },
   "types_to_exclude": [
    "module",
    "function",
    "builtin_function_or_method",
    "instance",
    "_Feature"
   ],
   "window_display": false
  }
 },
 "nbformat": 4,
 "nbformat_minor": 1
}
